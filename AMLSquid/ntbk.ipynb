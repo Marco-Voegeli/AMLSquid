{
 "cells": [
  {
   "cell_type": "code",
   "execution_count": 1,
   "metadata": {},
   "outputs": [],
   "source": [
    "from sklearn.metrics import r2_score, make_scorer\n",
    "from sklearn.linear_model import ElasticNet, HuberRegressor\n",
    "from sklearn.feature_selection import VarianceThreshold\n",
    "from sklearn.model_selection import KFold\n",
    "from sklearn.ensemble import IsolationForest\n",
    "from sklearn.impute import SimpleImputer, KNNImputer\n",
    "from sklearn.preprocessing import StandardScaler\n",
    "from sklearn import linear_model\n",
    "from scipy.stats import zscore\n",
    "import pandas as pd\n",
    "import matplotlib.pyplot as plt\n",
    "import numpy as np\n",
    "from pytorch_tabnet.tab_model import TabNetRegressor\n",
    "import torch"
   ]
  },
  {
   "cell_type": "code",
   "execution_count": 2,
   "metadata": {},
   "outputs": [],
   "source": [
    "x_test = pd.read_csv('X_GAIN_test.csv', header=0, index_col=0)\n",
    "x_train = pd.read_csv('X_GAIN_train.csv', header=0, index_col=0)\n",
    "y_train = pd.read_csv('y_train.csv', header=0, index_col=0)"
   ]
  },
  {
   "cell_type": "code",
   "execution_count": null,
   "metadata": {},
   "outputs": [],
   "source": [
    "def display(X):\n",
    "    print(pd.DataFrame(X, columns=x_train.columns))"
   ]
  },
  {
   "cell_type": "code",
   "execution_count": null,
   "metadata": {},
   "outputs": [],
   "source": [
    "def preprocessing(X_train, X_test):\n",
    "    imputer = KNNImputer()\n",
    "    imputer.fit(np.concatenate((X_train, X_test)))\n",
    "    return (imputer.transform(X_train), imputer.transform(X_test))"
   ]
  },
  {
   "cell_type": "code",
   "execution_count": null,
   "metadata": {},
   "outputs": [],
   "source": [
    "def normalize(X_train, X_test):\n",
    "    scaler = StandardScaler()\n",
    "    concat = np.concatenate((X_train, X_test))\n",
    "    scaler.fit(concat)\n",
    "    return (scaler.transform(X_train), scaler.transform(X_test))"
   ]
  },
  {
   "cell_type": "code",
   "execution_count": null,
   "metadata": {},
   "outputs": [],
   "source": [
    "def outlier_detection(X, y):\n",
    "    clf = IsolationForest()\n",
    "    clf.fit(X)\n",
    "\n",
    "    outliers = []\n",
    "\n",
    "    idx = 0\n",
    "\n",
    "    for i in clf.predict(X):\n",
    "        if i == -1:\n",
    "            outliers.append(idx)\n",
    "        idx += 1\n",
    "\n",
    "\n",
    "    return (np.delete(X, outliers, 0), np.delete(y, outliers).reshape((-1, 1)))\n",
    "    "
   ]
  },
  {
   "cell_type": "code",
   "execution_count": null,
   "metadata": {},
   "outputs": [],
   "source": [
    "def feature_selection(model, X, y):\n",
    "    raise NotImplementedError"
   ]
  },
  {
   "cell_type": "code",
   "execution_count": 27,
   "metadata": {
    "scrolled": true
   },
   "outputs": [],
   "source": [
    "def TabNetRegression(X_train, y_train):\n",
    "    kf = KFold(shuffle=True)\n",
    "    kf.get_n_splits(X_train, y_train)\n",
    "    reg = TabNetRegressor(seed=42)\n",
    "    for train_i, val_i in kf.split(X_train, y_train):\n",
    "        X_trainkf, X_val = X_train[train_i], X_train[val_i]\n",
    "        y_trainkf, y_val = y_train[train_i], y_train[val_i]\n",
    "        reg.fit(\n",
    "            X_train=X_trainkf, y_train=y_trainkf,\n",
    "            eval_set=[(X_val, y_val)],\n",
    "            drop_last=False,\n",
    "            warm_start=True\n",
    "        )\n"
   ]
  },
  {
   "cell_type": "code",
   "execution_count": null,
   "metadata": {},
   "outputs": [],
   "source": [
    "def regression(X_train, y_train, X_test):\n",
    "    reg = linear_model.Lasso(max_iter=100000)\n",
    "    reg.fit(X_train, y_train)\n",
    "\n",
    "    return reg.predict(X_test)"
   ]
  },
  {
   "cell_type": "code",
   "execution_count": null,
   "metadata": {},
   "outputs": [],
   "source": [
    "X_processed_train, X_processed_test = x_train.to_numpy(), x_test.to_numpy()\n",
    "y_train = y_train.to_numpy()"
   ]
  },
  {
   "cell_type": "code",
   "execution_count": null,
   "metadata": {},
   "outputs": [],
   "source": [
    "X_processed_train, X_processed_test = preprocessing(X_processed_train, X_processed_test)\n"
   ]
  },
  {
   "cell_type": "code",
   "execution_count": null,
   "metadata": {},
   "outputs": [],
   "source": [
    "X_processed_train, X_processed_test = normalize(X_processed_train, X_processed_test)"
   ]
  },
  {
   "cell_type": "code",
   "execution_count": null,
   "metadata": {},
   "outputs": [],
   "source": [
    "X_processed_train, y_processed_train = outlier_detection(X_processed_train, y_train)\n"
   ]
  },
  {
   "cell_type": "code",
   "execution_count": null,
   "metadata": {},
   "outputs": [],
   "source": [
    "results = regression(X_processed_train, y_processed_train, X_processed_test)"
   ]
  },
  {
   "cell_type": "code",
   "execution_count": null,
   "metadata": {},
   "outputs": [],
   "source": [
    "asdf = pd.DataFrame(results)\n",
    "asdf.index.name = 'id'\n",
    "asdf.rename(columns={ 0: 'y' }, inplace=True)\n",
    "asdf.to_csv(\"res.csv\")"
   ]
  }
 ],
 "metadata": {
  "interpreter": {
   "hash": "8f7876334262c134316838f756d5e0f90ed2f7c00a9a27cf2a5687dd2cd47f4d"
  },
  "kernelspec": {
   "display_name": "Python 3.9.5 64-bit ('env': venv)",
   "language": "python",
   "name": "python3"
  },
  "language_info": {
   "codemirror_mode": {
    "name": "ipython",
    "version": 3
   },
   "file_extension": ".py",
   "mimetype": "text/x-python",
   "name": "python",
   "nbconvert_exporter": "python",
   "pygments_lexer": "ipython3",
   "version": "3.9.5"
  }
 },
 "nbformat": 4,
 "nbformat_minor": 2
}
