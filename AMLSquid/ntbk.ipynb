{
 "cells": [
  {
   "cell_type": "code",
   "execution_count": 1,
   "metadata": {},
   "outputs": [],
   "source": [
    "from sklearn.metrics import r2_score, make_scorer\n",
    "from sklearn.linear_model import ElasticNet, HuberRegressor\n",
    "from sklearn.feature_selection import VarianceThreshold\n",
    "from sklearn.model_selection import KFold\n",
    "from sklearn.ensemble import IsolationForest\n",
    "from sklearn.impute import SimpleImputer, KNNImputer\n",
    "from sklearn.preprocessing import StandardScaler\n",
    "from sklearn import linear_model\n",
    "from scipy.stats import zscore\n",
    "import pandas as pd\n",
    "import matplotlib.pyplot as plt\n",
    "import numpy as np"
   ]
  },
  {
   "cell_type": "code",
   "execution_count": 2,
   "metadata": {},
   "outputs": [],
   "source": [
    "x_test = pd.read_csv('X_test.csv', header=0, index_col=0)\n",
    "x_train = pd.read_csv('X_train.csv', header=0, index_col=0)\n",
    "y_train = pd.read_csv('y_train.csv', header=0, index_col=0)"
   ]
  },
  {
   "cell_type": "code",
   "execution_count": 3,
   "metadata": {},
   "outputs": [],
   "source": [
    "def display(X):\n",
    "    print(pd.DataFrame(X, columns=x_train.columns))"
   ]
  },
  {
   "cell_type": "code",
   "execution_count": 4,
   "metadata": {},
   "outputs": [],
   "source": [
    "def preprocessing(X_train, X_test):\n",
    "    imputer = KNNImputer()\n",
    "    imputer.fit(X_train)\n",
    "    return (imputer.transform(X_train), imputer.transform(X_test))"
   ]
  },
  {
   "cell_type": "code",
   "execution_count": 5,
   "metadata": {},
   "outputs": [],
   "source": [
    "def normalize(X_train, X_test):\n",
    "    scaler = StandardScaler()\n",
    "    scaler.fit(X_train)\n",
    "    return (scaler.transform(X_train), scaler.transform(X_test))"
   ]
  },
  {
   "cell_type": "code",
   "execution_count": 6,
   "metadata": {},
   "outputs": [],
   "source": [
    "def outlier_detection(X, y):\n",
    "    clf = IsolationForest(n_estimators=10, warm_start=True)\n",
    "    clf.fit(X)  # fit 10 trees  \n",
    "    clf.set_params(n_estimators=20)  # add 10 more trees  \n",
    "    clf.fit(X)  # fit the added trees  \n",
    "\n",
    "    outliers = []\n",
    "\n",
    "    idx = 0\n",
    "\n",
    "    for i in clf.predict(X):\n",
    "        if i == -1:\n",
    "            outliers.append(idx)\n",
    "        idx += 1\n",
    "\n",
    "\n",
    "    return (np.delete(X, outliers, 0), np.delete(y, outliers))\n",
    "    "
   ]
  },
  {
   "cell_type": "code",
   "execution_count": 7,
   "metadata": {},
   "outputs": [],
   "source": [
    "def feature_selection(model, X, y):\n",
    "    raise NotImplementedError"
   ]
  },
  {
   "cell_type": "code",
   "execution_count": 8,
   "metadata": {},
   "outputs": [],
   "source": [
    "def regression(X_train, y_train, X_test):\n",
    "    reg = linear_model.Lasso(max_iter=100000)\n",
    "    reg.fit(X_train, y_train)\n",
    "\n",
    "    return reg.predict(X_test)"
   ]
  },
  {
   "cell_type": "code",
   "execution_count": 9,
   "metadata": {},
   "outputs": [],
   "source": [
    "X_processed_train, X_processed_test = preprocessing(x_train, x_test)\n"
   ]
  },
  {
   "cell_type": "code",
   "execution_count": 10,
   "metadata": {},
   "outputs": [],
   "source": [
    "X_processed_train, X_processed_test = normalize(X_processed_train, X_processed_test)"
   ]
  },
  {
   "cell_type": "code",
   "execution_count": 11,
   "metadata": {},
   "outputs": [],
   "source": [
    "X_processed_train, y_processed_train = outlier_detection(X_processed_train, y_train.to_numpy())\n"
   ]
  },
  {
   "cell_type": "code",
   "execution_count": 12,
   "metadata": {},
   "outputs": [],
   "source": [
    "results = regression(X_processed_train, y_processed_train, X_processed_test)"
   ]
  },
  {
   "cell_type": "code",
   "execution_count": 13,
   "metadata": {},
   "outputs": [],
   "source": [
    "asdf = pd.DataFrame(results)\n",
    "asdf.index.name = 'id'\n",
    "asdf.rename(columns={ 0: 'y' }, inplace=True)\n",
    "asdf.to_csv(\"res.csv\")"
   ]
  }
 ],
 "metadata": {
  "interpreter": {
   "hash": "8f7876334262c134316838f756d5e0f90ed2f7c00a9a27cf2a5687dd2cd47f4d"
  },
  "kernelspec": {
   "display_name": "Python 3.9.5 64-bit ('env': venv)",
   "language": "python",
   "name": "python395jvsc74a57bd08f7876334262c134316838f756d5e0f90ed2f7c00a9a27cf2a5687dd2cd47f4d"
  },
  "language_info": {
   "codemirror_mode": {
    "name": "ipython",
    "version": 3
   },
   "file_extension": ".py",
   "mimetype": "text/x-python",
   "name": "python",
   "nbconvert_exporter": "python",
   "pygments_lexer": "ipython3",
   "version": "3.9.5"
  }
 },
 "nbformat": 4,
 "nbformat_minor": 2
}
